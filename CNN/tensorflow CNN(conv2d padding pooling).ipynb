{
 "cells": [
  {
   "cell_type": "code",
   "execution_count": 3,
   "metadata": {},
   "outputs": [],
   "source": [
    "%matplotlib inline\n",
    "import numpy as np\n",
    "import tensorflow as tf\n",
    "import matplotlib.pyplot as plt"
   ]
  },
  {
   "cell_type": "code",
   "execution_count": 4,
   "metadata": {},
   "outputs": [
    {
     "name": "stdout",
     "output_type": "stream",
     "text": [
      "(1, 3, 3, 1)\n"
     ]
    },
    {
     "data": {
      "image/png": "[encoded data removed]",
      "text/plain": [
       "<Figure size 432x288 with 1 Axes>"
      ]
     },
     "metadata": {
      "needs_background": "light"
     },
     "output_type": "display_data"
    }
   ],
   "source": [
    "sess = tf.InteractiveSession()\n",
    "image = np.array([[[[1],[2],[3]],\n",
    "                  [[4],[5],[6]],\n",
    "                  [[7],[8],[9]]]], dtype = np.float32) #(1,3,3,1)형태의 배열임\n",
    "print(image.shape)\n",
    "plt.imshow(image.reshape(3,3), cmap='Greys')\n",
    "sess.close()"
   ]
  },
  {
   "cell_type": "code",
   "execution_count": 25,
   "metadata": {},
   "outputs": [
    {
     "name": "stdout",
     "output_type": "stream",
     "text": [
      "Tensor(\"Const_36:0\", shape=(3, 2), dtype=float32)\n",
      "Tensor(\"Const_37:0\", shape=(5,), dtype=int32)\n"
     ]
    }
   ],
   "source": [
    "node_1 = tf.constant(3.0, shape=[3,2])\n",
    "print(node_1)\n",
    "node_2 = tf.constant([1,2,3,4,5])\n",
    "print(node_2)"
   ]
  },
  {
   "cell_type": "code",
   "execution_count": 22,
   "metadata": {},
   "outputs": [
    {
     "name": "stdout",
     "output_type": "stream",
     "text": [
      "Tensor(\"Const_30:0\", shape=(), dtype=float32)\n",
      "Tensor(\"Const_31:0\", shape=(), dtype=float32)\n"
     ]
    }
   ],
   "source": [
    "node_1 = tf.constant(3.0, tf.float32) #명시적\n",
    "node_2 = tf.constant(4.0) #암묵적\n",
    "node_3 = tf.add(node_1, node_2)\n",
    "\n",
    "print(node_1)\n",
    "print(node_2)"
   ]
  },
  {
   "cell_type": "code",
   "execution_count": 4,
   "metadata": {},
   "outputs": [
    {
     "name": "stdout",
     "output_type": "stream",
     "text": [
      "Tensor(\"Add:0\", shape=(), dtype=float32)\n",
      "node_3 : 7.0\n"
     ]
    }
   ],
   "source": [
    "sess = tf.Session() #세션 만들기\n",
    "\n",
    "print(node_3)\n",
    "print('node_3 :', sess.run(node_3))\n",
    "\n",
    "sess.close()"
   ]
  },
  {
   "cell_type": "code",
   "execution_count": 5,
   "metadata": {},
   "outputs": [
    {
     "name": "stdout",
     "output_type": "stream",
     "text": [
      "7.0\n"
     ]
    }
   ],
   "source": [
    "sess = tf.Session()\n",
    "print(sess.run(node_3))\n",
    "sess.close()"
   ]
  },
  {
   "cell_type": "code",
   "execution_count": null,
   "metadata": {},
   "outputs": [],
   "source": []
  },
  {
   "cell_type": "code",
   "execution_count": 6,
   "metadata": {},
   "outputs": [
    {
     "name": "stdout",
     "output_type": "stream",
     "text": [
      "(1, 3, 3, 1)\n"
     ]
    },
    {
     "data": {
      "image/png": "[encoded data removed]",
      "text/plain": [
       "<Figure size 432x288 with 1 Axes>"
      ]
     },
     "metadata": {
      "needs_background": "light"
     },
     "output_type": "display_data"
    }
   ],
   "source": [
    "sess=tf.InteractiveSession()\n",
    "image=np.array([[[[1],[2],[3]],\n",
    "               [[4],[5],[6]],\n",
    "               [[7],[8],[9]]]], dtype=np.float32)\n",
    "print(image.shape)\n",
    "plt.imshow(image.reshape(3,3), cmap='Greys')\n",
    "sess.close()"
   ]
  },
  {
   "cell_type": "code",
   "execution_count": 7,
   "metadata": {},
   "outputs": [
    {
     "name": "stdout",
     "output_type": "stream",
     "text": [
      "conv2d_img.shape (1, 3, 3, 1)\n",
      "[[ 81.  99. 117.]\n",
      " [207. 225. 243.]\n",
      " [333. 351. 369.]]\n"
     ]
    },
    {
     "data": {
      "text/plain": [
       "<matplotlib.image.AxesImage at 0x1e895c6e940>"
      ]
     },
     "execution_count": 7,
     "metadata": {},
     "output_type": "execute_result"
    },
    {
     "data": {
      "image/png": "[encoded data removed]",
      "text/plain": [
       "<Figure size 432x288 with 1 Axes>"
      ]
     },
     "metadata": {
      "needs_background": "light"
     },
     "output_type": "display_data"
    }
   ],
   "source": [
    "sess=tf.InteractiveSession()\n",
    "image=np.arange(1,50, dtype=np.float32).reshape(1,7,7,1)\n",
    "w_filter = tf.constant(np.ones(9, dtype=np.float32).reshape(3,3,1,1))\n",
    "conv2d=tf.nn.conv2d(input=image, filter=w_filter, strides=[1,2,2,1], padding='VALID')\n",
    "conv2d_img=conv2d.eval()\n",
    "print(\"conv2d_img.shape\", conv2d_img.shape)\n",
    "print(conv2d_img.reshape(3,3))\n",
    "plt.imshow(conv2d_img.reshape(3,3),cmap=\"Greys\")"
   ]
  },
  {
   "cell_type": "code",
   "execution_count": null,
   "metadata": {},
   "outputs": [],
   "source": []
  },
  {
   "cell_type": "code",
   "execution_count": null,
   "metadata": {},
   "outputs": [],
   "source": [
    "#padding"
   ]
  },
  {
   "cell_type": "code",
   "execution_count": 26,
   "metadata": {},
   "outputs": [
    {
     "name": "stdout",
     "output_type": "stream",
     "text": [
      "[[12. 16.]\n",
      " [24. 28.]]\n",
      "[[12. 16.  9.]\n",
      " [24. 28. 15.]\n",
      " [15. 17.  9.]]\n"
     ]
    }
   ],
   "source": [
    "sess = tf.InteractiveSession()\n",
    "\n",
    "image = np.arange(1, 10 , dtype=np.float32).reshape(1,3,3,1)\n",
    "w_filter = tf.constant(np.ones(4, dtype=np.float32).reshape(2,2,1,1))\n",
    "conv2d_1 = tf.nn.conv2d(input=image, filter=w_filter, strides=[1,1,1,1], padding=\"VALID\")\n",
    "conv2d_2 = tf.nn.conv2d(input=image, filter=w_filter, strides=[1,1,1,1], padding=\"SAME\")\n",
    "print(conv2d_1.eval().reshape(2,2))\n",
    "print(conv2d_2.eval().reshape(3,3))\n",
    "\n",
    "sess.close()"
   ]
  },
  {
   "cell_type": "code",
   "execution_count": 28,
   "metadata": {},
   "outputs": [
    {
     "name": "stdout",
     "output_type": "stream",
     "text": [
      "[[4. 6. 6. 6. 4.]\n",
      " [6. 9. 9. 9. 6.]\n",
      " [6. 9. 9. 9. 6.]\n",
      " [6. 9. 9. 9. 6.]\n",
      " [4. 6. 6. 6. 4.]]\n"
     ]
    }
   ],
   "source": [
    "sess = tf.InteractiveSession()\n",
    "\n",
    "image = np.ones(25, dtype=np.float32).reshape(1, 5, 5, 1)\n",
    "w_filter = tf.constant(np.ones(9, dtype=np.float32).reshape(3,3,1,1))\n",
    "\n",
    "conv2d_2 = tf.nn.conv2d(input=image, filter=w_filter, strides=[1,1,1,1], padding='SAME')\n",
    "print(conv2d_2.eval().reshape(5,5))\n",
    "\n",
    "sess.close()"
   ]
  },
  {
   "cell_type": "code",
   "execution_count": null,
   "metadata": {},
   "outputs": [],
   "source": []
  },
  {
   "cell_type": "code",
   "execution_count": null,
   "metadata": {},
   "outputs": [],
   "source": []
  },
  {
   "cell_type": "code",
   "execution_count": null,
   "metadata": {},
   "outputs": [],
   "source": [
    "#Pooling"
   ]
  },
  {
   "cell_type": "code",
   "execution_count": 10,
   "metadata": {},
   "outputs": [
    {
     "name": "stdout",
     "output_type": "stream",
     "text": [
      "(1, 2, 2, 1)\n",
      "[[ 6.  8.]\n",
      " [14. 16.]]\n",
      "[[ 3.5  5.5]\n",
      " [11.5 13.5]]\n"
     ]
    }
   ],
   "source": [
    "sess = tf.InteractiveSession()\n",
    "\n",
    "image = np.arange(1,17 , dtype=np.float32).reshape(1,4,4,1)\n",
    "max_pool = tf.nn.max_pool(image, ksize=[1,2,2,1], strides=[1,2,2,1], padding='VALID')\n",
    "avg_pool = tf.nn.avg_pool(image, ksize=[1,2,2,1], strides=[1,2,2,1], padding='VALID')\n",
    "\n",
    "print(max_pool.eval().shape)\n",
    "print(max_pool.eval().reshape(2,2))\n",
    "print(avg_pool.eval().reshape(2,2))"
   ]
  },
  {
   "cell_type": "code",
   "execution_count": 11,
   "metadata": {},
   "outputs": [],
   "source": [
    "#불필요한 warning 끔\n",
    "\n",
    "import tensorflow as tf\n",
    "tf.logging.set_verbosity(tf.logging.ERROR)"
   ]
  },
  {
   "cell_type": "code",
   "execution_count": 12,
   "metadata": {},
   "outputs": [
    {
     "name": "stdout",
     "output_type": "stream",
     "text": [
      "Extracting MNIST_data/train-images-idx3-ubyte.gz\n",
      "Extracting MNIST_data/train-labels-idx1-ubyte.gz\n",
      "Extracting MNIST_data/t10k-images-idx3-ubyte.gz\n",
      "Extracting MNIST_data/t10k-labels-idx1-ubyte.gz\n"
     ]
    }
   ],
   "source": [
    "from tensorflow.examples.tutorials.mnist import input_data\n",
    "mnist = input_data.read_data_sets(\"MNIST_data/\", one_hot=True)"
   ]
  },
  {
   "cell_type": "code",
   "execution_count": 13,
   "metadata": {},
   "outputs": [
    {
     "name": "stdout",
     "output_type": "stream",
     "text": [
      "[0. 0. 0. 0. 0. 0. 0. 1. 0. 0.]\n"
     ]
    },
    {
     "data": {
      "text/plain": [
       "<matplotlib.image.AxesImage at 0x1e897fec320>"
      ]
     },
     "execution_count": 13,
     "metadata": {},
     "output_type": "execute_result"
    },
    {
     "data": {
      "image/png": "[encoded data removed]",
      "text/plain": [
       "<Figure size 432x288 with 1 Axes>"
      ]
     },
     "metadata": {
      "needs_background": "light"
     },
     "output_type": "display_data"
    }
   ],
   "source": [
    "img = mnist.train.images[0].reshape(28,28)\n",
    "print(mnist.train.labels[0])\n",
    "plt.imshow(img, cmap='gray')"
   ]
  },
  {
   "cell_type": "code",
   "execution_count": 14,
   "metadata": {},
   "outputs": [
    {
     "name": "stderr",
     "output_type": "stream",
     "text": [
      "C:\\Users\\Affinity\\.conda\\envs\\keras\\lib\\site-packages\\tensorflow\\python\\client\\session.py:1702: UserWarning: An interactive session is already active. This can cause out-of-memory errors in some cases. You must explicitly call `InteractiveSession.close()` to release resources held by the other session(s).\n",
      "  warnings.warn('An interactive session is already active. This can '\n"
     ]
    },
    {
     "name": "stdout",
     "output_type": "stream",
     "text": [
      "Tensor(\"Conv2D_2:0\", shape=(1, 14, 14, 5), dtype=float32)\n"
     ]
    },
    {
     "data": {
      "image/png": "[encoded data removed]",
      "text/plain": [
       "<Figure size 432x288 with 5 Axes>"
      ]
     },
     "metadata": {
      "needs_background": "light"
     },
     "output_type": "display_data"
    }
   ],
   "source": [
    "sess = tf.InteractiveSession()\n",
    "\n",
    "img = img.reshape(1,28,28,1)\n",
    "#w_filter = np.random.random((3,3,1,5)) #필터의 개수를 항상 1이었다가 5로 바꿔서 swapaxes가 필요해짐\n",
    "w_filter = np.random.random((3,3,1,5)) -0.5 # 마이너스인 값들이 생겨나면서 필터 후 이미지가 달라짐\n",
    "conv2d=tf.nn.conv2d(img, w_filter, strides=[1,2,2,1], padding='SAME')\n",
    "print(conv2d)\n",
    "conv2d_img = conv2d.eval()\n",
    "conv2d_img = np.swapaxes(conv2d_img, 0 ,3)\n",
    "# print(np.swapaxes(conv2d_img, 0, 3))\n",
    "for i, one_img in enumerate(conv2d_img):\n",
    "    plt.subplot(1,5,i+1), plt.imshow(one_img.reshape(14,14), cmap='gray')\n",
    "\n",
    "sess.close()"
   ]
  },
  {
   "cell_type": "code",
   "execution_count": 15,
   "metadata": {},
   "outputs": [
    {
     "name": "stdout",
     "output_type": "stream",
     "text": [
      "(512, 512)\n"
     ]
    },
    {
     "data": {
      "text/plain": [
       "(1, 198, 198, 1)"
      ]
     },
     "execution_count": 15,
     "metadata": {},
     "output_type": "execute_result"
    }
   ],
   "source": [
    "from PIL import Image as Im #png 파일 돌아가는 거\n",
    "import numpy as np\n",
    "import tensorflow as tf\n",
    "import matplotlib.pyplot as plt\n",
    "\n",
    "Lena = Im.open(\"C:/Users/Affinity/lena.jpg\")\n",
    "print(Lena.size) #이미지 크기 출력 512X512\n",
    "Lena.show() #이미지 보기 새창이 켜짐 \n",
    "Lena = Lena.resize((200,200)) #크기를 200x200으로 알아야 할 수 있어서\n",
    "Lena = Lena.convert('L') #흑백화면으로 channel이 하나밖에 없는 greyscale\n",
    "Lena = np.array(Lena, dtype=np.float32) #행렬로 바꿔줌 float32\n",
    "Lena = Lena.reshape(1,200,200,1) #conv2d에 넣을 모양으로\n",
    "Lena.shape #[1,200,200,1] = [batch, ht, wdth, channel수]\n",
    "K1 = tf.constant([[[[-1.]],[[-1.]],[[-1.]]],[[[-1.]],[[9.]],[[-1.]]],[[[-1.]],[[-1.]],[[-1.]]]]) #K1 size=(3,3,1,1)=[ht, wdth, channel, 개수]ㅊ\n",
    "a1 = tf.nn.conv2d(Lena, K1, strides=[1,1,1,1], padding='VALID')\n",
    "\n",
    "#실행\n",
    "sess= tf.Session()\n",
    "a1=sess.run(a1)\n",
    "a1.shape #=[1,198, 198, 1]=[channel수, ht, wdth, batch]\n",
    "a1_img = np.swapaxes(a1, 0,3) #똑같이 1 이여도 꼭 해줘야함. 앞에 먼저 batch가 나와야되서 바꿔줘야함.\n",
    "a1_img.shape #axis0과 3을 서로 바꾸기 \n",
    "#=> [1,198,198,1] = [batch, ht, wdth, channel수]"
   ]
  },
  {
   "cell_type": "code",
   "execution_count": 16,
   "metadata": {},
   "outputs": [
    {
     "data": {
      "text/plain": [
       "<matplotlib.image.AxesImage at 0x1e89926ef60>"
      ]
     },
     "execution_count": 16,
     "metadata": {},
     "output_type": "execute_result"
    },
    {
     "data": {
      "image/png": "[encoded data removed]",
      "text/plain": [
       "<Figure size 432x288 with 3 Axes>"
      ]
     },
     "metadata": {
      "needs_background": "light"
     },
     "output_type": "display_data"
    }
   ],
   "source": [
    "#최대값 풀링 2\n",
    "h1 =tf.nn.max_pool(a1_img, ksize=[1,2,2,1], strides=[1,2,2,1], padding='VALID')\n",
    "\n",
    "h1=sess.run(h1)\n",
    "h1.shape #[1, 199, 199, 1] =[batch, ht, wdth, channel수]\n",
    "plt.subplot(1,3,1)\n",
    "plt.imshow(Lena.reshape(200,200), cmap=\"Greys\")\n",
    "plt.subplot(1,3,2)\n",
    "plt.imshow(a1_img.reshape(198,198), cmap='Greys')\n",
    "plt.subplot(1,3,3)\n",
    "plt.imshow(h1.reshape(99,99), cmap=\"Greys\")"
   ]
  },
  {
   "cell_type": "code",
   "execution_count": 17,
   "metadata": {},
   "outputs": [
    {
     "name": "stdout",
     "output_type": "stream",
     "text": [
      "conv2d_img.shape (3, 3, 3)\n",
      "[[[12. 16.  9.]\n",
      "  [24. 28. 15.]\n",
      "  [15. 17.  9.]]\n",
      "\n",
      " [[24. 32. 18.]\n",
      "  [48. 56. 30.]\n",
      "  [30. 34. 18.]]\n",
      "\n",
      " [[36. 48. 27.]\n",
      "  [72. 84. 45.]\n",
      "  [45. 51. 27.]]]\n"
     ]
    }
   ],
   "source": [
    "sess = tf.InteractiveSession()\n",
    "\n",
    "image = np.arange(1,10, dtype = np.float32).reshape(1,3,3,1)\n",
    "w_filter = np.array([1,1,1,1,2,2,2,2,3,3,3,3], dtype=np.float32).reshape(1,3,2,2)\n",
    "w_filter = np.swapaxes(w_filter, 0,2)\n",
    "w_filter = np.swapaxes(w_filter, 1,3)\n",
    "\n",
    "conv2d=tf.nn.conv2d(input = image, filter = w_filter, strides=[1,1,1,1], padding='SAME')\n",
    "conv2d_img=conv2d.eval()\n",
    "conv2d_img=np.swapaxes(conv2d_img, 0, 3).reshape(3,3,3)\n",
    "print(\"conv2d_img.shape\", conv2d_img.shape)\n",
    "print(conv2d_img)\n",
    "\n",
    "sess.close()"
   ]
  },
  {
   "cell_type": "code",
   "execution_count": null,
   "metadata": {},
   "outputs": [],
   "source": []
  }
 ],
 "metadata": {
  "kernelspec": {
   "display_name": "keras",
   "language": "python",
   "name": "keras"
  },
  "language_info": {
   "codemirror_mode": {
    "name": "ipython",
    "version": 3
   },
   "file_extension": ".py",
   "mimetype": "text/x-python",
   "name": "python",
   "nbconvert_exporter": "python",
   "pygments_lexer": "ipython3",
   "version": "3.6.8"
  },
  "widgets": {
   "state": {},
   "version": "1.1.2"
  }
 },
 "nbformat": 4,
 "nbformat_minor": 2
}
